{
  "nbformat": 4,
  "nbformat_minor": 0,
  "metadata": {
    "colab": {
      "name": "FibonacciTime.ipynb",
      "provenance": []
    },
    "kernelspec": {
      "name": "python3",
      "display_name": "Python 3"
    }
  },
  "cells": [
    {
      "cell_type": "code",
      "metadata": {
        "id": "ltKhn_ePCgja"
      },
      "source": [
        "import itertools as tools\r\n",
        "import matplotlib.pyplot as plt\r\n",
        "from time import time"
      ],
      "execution_count": null,
      "outputs": []
    },
    {
      "cell_type": "code",
      "metadata": {
        "id": "WyAFuWeYLU5Y"
      },
      "source": [
        "def recursiveFibo(n):\r\n",
        "  if n <=1:\r\n",
        "    return n\r\n",
        "  else:\r\n",
        "    return (recursiveFibo(n-1)+recursiveFibo(n-2))\r\n",
        "\r\n",
        "def iterativeFibo(n):\r\n",
        "  a=0\r\n",
        "  b=1\r\n",
        "  for i in range(n):\r\n",
        "    a=b\r\n",
        "    b=a+b\r\n",
        "  return a\r\n"
      ],
      "execution_count": null,
      "outputs": []
    },
    {
      "cell_type": "code",
      "metadata": {
        "colab": {
          "base_uri": "https://localhost:8080/",
          "height": 265
        },
        "id": "IDD0ZfjwSHAg",
        "outputId": "21633b47-6115-4554-dc2c-feaca9f6348e"
      },
      "source": [
        "#Recursive Fibonacci time\r\n",
        "RecT = []\r\n",
        "Recn = []\r\n",
        "for i in range(50):\r\n",
        "  Recn.append(i)\r\n",
        "  start = time()\r\n",
        "  recursiveFibo(i)\r\n",
        "  finish = time()\r\n",
        "  exectime = finish-start\r\n",
        "  RecT.append(exectime)\r\n",
        "plt.plot(Recn,RecT,label=\"Fibonacci Recursivo\")\r\n",
        "plt.plot(Recn,Recn,label=\"Ejecucion lineal\")\r\n",
        "plt.ylabel(\"Tiempo\")\r\n",
        "plt.show()"
      ],
      "execution_count": null,
      "outputs": [
        {
          "output_type": "display_data",
          "data": {
            "image/png": "[encoded data removed]",
            "text/plain": [
              "<Figure size 432x288 with 1 Axes>"
            ]
          },
          "metadata": {
            "tags": [],
            "needs_background": "light"
          }
        }
      ]
    },
    {
      "cell_type": "code",
      "metadata": {
        "id": "SzaeLYVEfJAx"
      },
      "source": [
        "#Iterative Fibonacci time\r\n",
        "IterT = []\r\n",
        "Itern = []\r\n",
        "for i in range(500):\r\n",
        "  Itern.append(i)\r\n",
        "  start = time()\r\n",
        "  recursiveFibo(i)\r\n",
        "  finish = time()\r\n",
        "  exectime = finish-start\r\n",
        "  IterT.append(exectime)\r\n",
        "plt.title(\"Fibonacci Iterativo\")\r\n",
        "plt.plot(Itern,IterT,label=\"Fibonacci Iterativo\")\r\n",
        "plt.plot(Itern,Itern,label=\"Ejecucion lineal\")\r\n",
        "plt.ylabel(\"Tiempo\")\r\n",
        "plt.show()"
      ],
      "execution_count": null,
      "outputs": []
    }
  ]
}